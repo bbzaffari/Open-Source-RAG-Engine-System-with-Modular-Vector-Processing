{
  "cells": [
    {
      "cell_type": "code",
      "execution_count": null,
      "metadata": {
        "id": "dcXPWBxXGES3"
      },
      "outputs": [],
      "source": [
        "# !pip uninstall purecpp_libs purecpp_extract purecpp_chunks_clean -y"
      ]
    },
    {
      "cell_type": "code",
      "execution_count": 1,
      "metadata": {
        "colab": {
          "base_uri": "https://localhost:8080/"
        },
        "id": "7dtgLxkQBVU4",
        "outputId": "ca8199cc-9656-44a8-c445-bdeb84143f85"
      },
      "outputs": [
        {
          "output_type": "stream",
          "name": "stdout",
          "text": [
            "Collecting purecpp_extract_dev==0.0.400\n",
            "  Downloading purecpp_extract_dev-0.0.400-cp311-none-manylinux_2_34_x86_64.whl.metadata (562 bytes)\n",
            "Collecting purecpp_chunks_clean_dev==0.0.400\n",
            "  Downloading purecpp_chunks_clean_dev-0.0.400-cp311-none-any.whl.metadata (709 bytes)\n",
            "Collecting purecpp_libs_dev (from purecpp_extract_dev==0.0.400)\n",
            "  Downloading purecpp_libs_dev-0.0.400-cp311-none-manylinux_2_34_x86_64.whl.metadata (448 bytes)\n",
            "Collecting auditwheel (from purecpp_chunks_clean_dev==0.0.400)\n",
            "  Downloading auditwheel-6.4.1-py3-none-any.whl.metadata (7.3 kB)\n",
            "Requirement already satisfied: build in /usr/local/lib/python3.11/dist-packages (from purecpp_chunks_clean_dev==0.0.400) (1.2.2.post1)\n",
            "Requirement already satisfied: requests in /usr/local/lib/python3.11/dist-packages (from purecpp_chunks_clean_dev==0.0.400) (2.32.3)\n",
            "Requirement already satisfied: wheel in /usr/local/lib/python3.11/dist-packages (from purecpp_chunks_clean_dev==0.0.400) (0.45.1)\n",
            "Collecting pybind11 (from purecpp_chunks_clean_dev==0.0.400)\n",
            "  Downloading pybind11-3.0.0-py3-none-any.whl.metadata (10.0 kB)\n",
            "Requirement already satisfied: setuptools in /usr/local/lib/python3.11/dist-packages (from purecpp_chunks_clean_dev==0.0.400) (75.2.0)\n",
            "Requirement already satisfied: packaging>=20.9 in /usr/local/lib/python3.11/dist-packages (from auditwheel->purecpp_chunks_clean_dev==0.0.400) (25.0)\n",
            "Collecting pyelftools>=0.24 (from auditwheel->purecpp_chunks_clean_dev==0.0.400)\n",
            "  Downloading pyelftools-0.32-py3-none-any.whl.metadata (372 bytes)\n",
            "Requirement already satisfied: pyproject_hooks in /usr/local/lib/python3.11/dist-packages (from build->purecpp_chunks_clean_dev==0.0.400) (1.2.0)\n",
            "Requirement already satisfied: charset-normalizer<4,>=2 in /usr/local/lib/python3.11/dist-packages (from requests->purecpp_chunks_clean_dev==0.0.400) (3.4.2)\n",
            "Requirement already satisfied: idna<4,>=2.5 in /usr/local/lib/python3.11/dist-packages (from requests->purecpp_chunks_clean_dev==0.0.400) (3.10)\n",
            "Requirement already satisfied: urllib3<3,>=1.21.1 in /usr/local/lib/python3.11/dist-packages (from requests->purecpp_chunks_clean_dev==0.0.400) (2.4.0)\n",
            "Requirement already satisfied: certifi>=2017.4.17 in /usr/local/lib/python3.11/dist-packages (from requests->purecpp_chunks_clean_dev==0.0.400) (2025.7.14)\n",
            "Downloading purecpp_extract_dev-0.0.400-cp311-none-manylinux_2_34_x86_64.whl (8.1 MB)\n",
            "\u001b[2K   \u001b[90m━━━━━━━━━━━━━━━━━━━━━━━━━━━━━━━━━━━━━━━━\u001b[0m \u001b[32m8.1/8.1 MB\u001b[0m \u001b[31m29.3 MB/s\u001b[0m eta \u001b[36m0:00:00\u001b[0m\n",
            "\u001b[?25hDownloading purecpp_chunks_clean_dev-0.0.400-cp311-none-any.whl (15.3 MB)\n",
            "\u001b[2K   \u001b[90m━━━━━━━━━━━━━━━━━━━━━━━━━━━━━━━━━━━━━━━━\u001b[0m \u001b[32m15.3/15.3 MB\u001b[0m \u001b[31m70.2 MB/s\u001b[0m eta \u001b[36m0:00:00\u001b[0m\n",
            "\u001b[?25hDownloading auditwheel-6.4.1-py3-none-any.whl (50 kB)\n",
            "\u001b[2K   \u001b[90m━━━━━━━━━━━━━━━━━━━━━━━━━━━━━━━━━━━━━━━━\u001b[0m \u001b[32m50.8/50.8 kB\u001b[0m \u001b[31m3.3 MB/s\u001b[0m eta \u001b[36m0:00:00\u001b[0m\n",
            "\u001b[?25hDownloading purecpp_libs_dev-0.0.400-cp311-none-manylinux_2_34_x86_64.whl (925 kB)\n",
            "\u001b[2K   \u001b[90m━━━━━━━━━━━━━━━━━━━━━━━━━━━━━━━━━━━━━━━━\u001b[0m \u001b[32m926.0/926.0 kB\u001b[0m \u001b[31m43.3 MB/s\u001b[0m eta \u001b[36m0:00:00\u001b[0m\n",
            "\u001b[?25hDownloading pybind11-3.0.0-py3-none-any.whl (292 kB)\n",
            "\u001b[2K   \u001b[90m━━━━━━━━━━━━━━━━━━━━━━━━━━━━━━━━━━━━━━━━\u001b[0m \u001b[32m292.1/292.1 kB\u001b[0m \u001b[31m19.4 MB/s\u001b[0m eta \u001b[36m0:00:00\u001b[0m\n",
            "\u001b[?25hDownloading pyelftools-0.32-py3-none-any.whl (188 kB)\n",
            "\u001b[2K   \u001b[90m━━━━━━━━━━━━━━━━━━━━━━━━━━━━━━━━━━━━━━━━\u001b[0m \u001b[32m188.5/188.5 kB\u001b[0m \u001b[31m13.1 MB/s\u001b[0m eta \u001b[36m0:00:00\u001b[0m\n",
            "\u001b[?25hInstalling collected packages: pyelftools, purecpp_libs_dev, pybind11, purecpp_extract_dev, auditwheel, purecpp_chunks_clean_dev\n",
            "Successfully installed auditwheel-6.4.1 purecpp_chunks_clean_dev-0.0.400 purecpp_extract_dev-0.0.400 purecpp_libs_dev-0.0.400 pybind11-3.0.0 pyelftools-0.32\n"
          ]
        }
      ],
      "source": [
        "!pip install purecpp_extract_dev==0.0.400 purecpp_chunks_clean_dev==0.0.400"
      ]
    },
    {
      "cell_type": "code",
      "execution_count": 2,
      "metadata": {
        "id": "Id24_ARrT_KY"
      },
      "outputs": [],
      "source": [
        "import os\n",
        "os.environ[\"OPENAI_API_KEY\"] = \"\""
      ]
    },
    {
      "cell_type": "code",
      "execution_count": 3,
      "metadata": {
        "id": "TAd_tzUZBVU5",
        "outputId": "ffb69321-cd5e-4586-e414-6e1110445ec6",
        "colab": {
          "base_uri": "https://localhost:8080/"
        }
      },
      "outputs": [
        {
          "output_type": "stream",
          "name": "stdout",
          "text": [
            "Not all files are present. Downloading libtorch...\n",
            "Libtorch downloaded and extracted successfully.\n",
            "Conteúdo de d_libs/: libtorch\n",
            "\n"
          ]
        }
      ],
      "source": [
        "import purecpp_libs_dev as libs\n",
        "from purecpp_extract_dev import WebLoader\n",
        "import purecpp_chunks_clean_dev as cc"
      ]
    },
    {
      "cell_type": "code",
      "execution_count": null,
      "metadata": {
        "id": "UZD-yrgDBVU5",
        "outputId": "7f74fba5-29de-4b36-f4f1-eacbc9ec1cf9"
      },
      "outputs": [
        {
          "name": "stdout",
          "output_type": "stream",
          "text": [
            "Scrapped https://www.espn.com/\n"
          ]
        }
      ],
      "source": [
        "loader = WebLoader(\"https://www.espn.com/\")\n",
        "docs = loader.Load()"
      ]
    },
    {
      "cell_type": "code",
      "execution_count": null,
      "metadata": {
        "id": "Ai0NmcBHuIWZ",
        "outputId": "f70e69ea-4a35-4678-dcfa-b2003891fe2d"
      },
      "outputs": [
        {
          "name": "stdout",
          "output_type": "stream",
          "text": [
            "╔══════════════════════════════════════════════════════════╗\n",
            "║                Available Embedding Models                ║\n",
            "╠══════════════════════════════════════════════════════════╣\n",
            "║ 🔸 Vendor: cohere\n",
            "║    └── embed-english-light-v3.0\n",
            "╠──────────────────────────────────────────────────────────╣\n",
            "║ 🔸 Vendor: huggingface\n",
            "║    └── bge-small\n",
            "║    └── bge-large\n",
            "╠──────────────────────────────────────────────────────────╣\n",
            "║ 🔸 Vendor: openai\n",
            "║    └── text-embedding-ada-002\n",
            "║    └── text-embedding-3-small\n",
            "║    └── text-embedding-3-large\n",
            "╠──────────────────────────────────────────────────────────╣\n",
            "╚══════════════════════════════════════════════════════════╝\n",
            "\n"
          ]
        }
      ],
      "source": [
        "cc.AvailableModels()"
      ]
    },
    {
      "cell_type": "code",
      "execution_count": null,
      "metadata": {
        "colab": {
          "base_uri": "https://localhost:8080/"
        },
        "id": "uESlIyRnGB6o",
        "outputId": "2c70b965-4e04-44ba-b5de-173d2901108a"
      },
      "outputs": [
        {
          "data": {
            "text/plain": [
              "<purecpp_chunks_clean_dev.ChunkDefault at 0x7f6b267e0b30>"
            ]
          },
          "execution_count": 7,
          "metadata": {},
          "output_type": "execute_result"
        }
      ],
      "source": [
        "chunk_default = cc.ChunkDefault(chunk_size=420, overlap=60, items_opt=docs, max_workers=4)\n",
        "chunk_default"
      ]
    },
    {
      "cell_type": "markdown",
      "metadata": {
        "id": "qOg_ER9DuIWZ"
      },
      "source": [
        "# Embedding Results by Model\n",
        "\n",
        "Below are the results obtained after running `chunk_default.CreateEmb()` with different OpenAI models.  \n",
        "*(`text-embedding-ada-002` is used as a default.)*\n",
        "\n",
        "## Summary Table\n",
        "\n",
        "| Model                        | Vendor | Dimension (dim) | Number of Chunks (n) | Flatten Size (`flatVD.size`) |\n",
        "|------------------------------|--------|-----------------|----------------------|-------------------------------|\n",
        "| text-embedding-ada-002       | openai | 1536            | 24                   | 36,864                        |\n",
        "| text-embedding-3-small       | openai | 1536            | 24                   | 36,864                        |\n",
        "| text-embedding-3-large       | openai | 3072            | 24                   | 73,728                        |\n",
        "\n",
        "---\n",
        "\n",
        "## Details by Model\n",
        "\n",
        "### 1. `text-embedding-ada-002`\n",
        "\n",
        "```plaintext\n",
        "Flatten vector dimensions: <36864>\n",
        "dim: 1536 → n: 24 → expected size: 36864\n",
        "Model: text-embedding-ada-002, openai\n",
        "\n",
        "VDBdata(\n",
        "    flatVD = [-0.0164003, -0.00974306, 0.0139928, -0.011572, -0.0230242, ...],\n",
        "    flatVD.size = 36864,\n",
        "    model = 'text-embedding-ada-002',\n",
        "    vendor = 'openai',\n",
        "    dim = 1536,\n",
        "    n = 24\n",
        ")\n"
      ]
    },
    {
      "cell_type": "code",
      "execution_count": null,
      "metadata": {
        "id": "w1zk60ccuIWa",
        "outputId": "867cf7ee-63d8-443e-ef64-1c8596190644"
      },
      "outputs": [
        {
          "name": "stdout",
          "output_type": "stream",
          "text": [
            "Flatten vector dimensions: <35328>\n",
            "dim: 1536 n: 23 → expected size: 35328\n",
            "Model text-embedding-ada-002, openai\n"
          ]
        },
        {
          "data": {
            "text/plain": [
              "VDBdata(\n",
              "  flatVD = [-0.0164003, -0.00974306, 0.0139928, -0.011572, -0.0230242, -0.00333359, -0.011818, -0.0224124, ...]\n",
              "  flatVD.size = 35328,\n",
              "  model = 'text-embedding-ada-002',\n",
              "  vendor = 'openai',\n",
              "  dim = 1536,\n",
              "  n = 23\n",
              ")"
            ]
          },
          "execution_count": 8,
          "metadata": {},
          "output_type": "execute_result"
        },
        {
          "name": "stdout",
          "output_type": "stream",
          "text": [
            "______________________________________________________________________________________\n",
            "|  Model: text-embedding-ada-002 was added to chunks                                    \n",
            "|_____________________________________________________________________________________|\n"
          ]
        }
      ],
      "source": [
        "chunk_default.CreateEmb()"
      ]
    },
    {
      "cell_type": "code",
      "execution_count": null,
      "metadata": {
        "id": "I96Lr8yjuIWa",
        "outputId": "67823c66-3359-41e2-8cfb-3adf8c2a2b34"
      },
      "outputs": [
        {
          "name": "stdout",
          "output_type": "stream",
          "text": [
            "Flatten vector dimensions: <35328>\n",
            "dim: 1536 n: 23 → expected size: 35328\n",
            "Model text-embedding-3-small, openai\n"
          ]
        },
        {
          "data": {
            "text/plain": [
              "VDBdata(\n",
              "  flatVD = [0.0122094, 0.0349976, 0.015416, 0.0186773, -0.00630341, -0.00091468, 0.00028648, 0.00851646, ...]\n",
              "  flatVD.size = 35328,\n",
              "  model = 'text-embedding-3-small',\n",
              "  vendor = 'openai',\n",
              "  dim = 1536,\n",
              "  n = 23\n",
              ")"
            ]
          },
          "execution_count": 9,
          "metadata": {},
          "output_type": "execute_result"
        },
        {
          "name": "stdout",
          "output_type": "stream",
          "text": [
            "______________________________________________________________________________________\n",
            "|  Model: text-embedding-3-small was added to chunks                                    \n",
            "|_____________________________________________________________________________________|\n"
          ]
        }
      ],
      "source": [
        "chunk_default.CreateEmb(\"text-embedding-3-small\")"
      ]
    },
    {
      "cell_type": "code",
      "execution_count": null,
      "metadata": {
        "id": "wNZANzSXuIWb",
        "outputId": "90831ca7-761e-4a81-cc8a-5cfe5eb7cb19"
      },
      "outputs": [
        {
          "name": "stdout",
          "output_type": "stream",
          "text": [
            "Flatten vector dimensions: <70656>\n",
            "dim: 3072 n: 23 → expected size: 70656\n",
            "Model text-embedding-3-large, openai\n",
            "______________________________________________________________________________________\n",
            "|  Model: text-embedding-3-large was added to chunks                                    \n",
            "|_____________________________________________________________________________________|\n"
          ]
        },
        {
          "data": {
            "text/plain": [
              "VDBdata(\n",
              "  flatVD = [0.0366267, 0.0108322, -0.0039584, 0.0206926, -0.0455404, 0.00583078, 0.0461771, 0.0477186, ...]\n",
              "  flatVD.size = 70656,\n",
              "  model = 'text-embedding-3-large',\n",
              "  vendor = 'openai',\n",
              "  dim = 3072,\n",
              "  n = 23\n",
              ")"
            ]
          },
          "execution_count": 10,
          "metadata": {},
          "output_type": "execute_result"
        }
      ],
      "source": [
        "chunk_default.CreateEmb(\"text-embedding-3-large\")"
      ]
    },
    {
      "cell_type": "markdown",
      "metadata": {
        "id": "i8wnA55TuIWb"
      },
      "source": [
        "## Internal Structure of `ChunkDefault` and `VectorDatabase`\n",
        "\n",
        "- **References to Chunks**  \n",
        "  - `ChunkDefault` holds only _references_ to the `RAGLibrary::Document` objects (“chunks”), without copying each instance multiple times.  \n",
        "  - This minimizes memory duplication and preserves direct access to the original text.\n",
        "\n",
        "- **Contiguous `vdb_data` Array (VectorDatabase)**  \n",
        "  - Each call to `CreateEmb(model)` produces a `vdb_data` object that aggregates all embeddings for that model:  \n",
        "    - **`flatVD`**: a contiguous `std::vector<float>` containing all embeddings concatenated.  \n",
        "    - **`dim`**: the dimensionality of each embedding (D).  \n",
        "    - **`n`**: the total number of chunks.  \n",
        "    - **`model`** and **`vendor`**: identifiers of the embedding model.  \n",
        "  - This contiguous memory layout:  \n",
        "    1. **Avoids overhead** of having N separate `std::vector<float>`.  \n",
        "    2. **Enables efficient vector search** (e.g., with FAISS or manual computations), since all data resides in one contiguous block.\n",
        "\n",
        "- **Benefits**  \n",
        "  1. **Memory efficiency**: a single flattened vector instead of N independent vectors.  \n",
        "  2. **Performance**: cache-friendly sequential access and reduced heap fragmentation.  \n",
        "  3. **Simplicity**: `vdb_data` encapsulates everything needed for downstream searches—pointer, dimensions, and model metadata.  \n"
      ]
    },
    {
      "cell_type": "code",
      "execution_count": null,
      "metadata": {
        "id": "XMaPvtMDuIWb",
        "outputId": "839009cc-0389-4fdb-8aa6-2f8cbe5f89f3"
      },
      "outputs": [
        {
          "name": "stdout",
          "output_type": "stream",
          "text": [
            "Chunk list contains 23 chunks.\n",
            "With an average size of: 420 and  overlap of: 60 | Quantity of different embeddings: 3\n",
            "╔═════════════════════════════════════════════════════════════════════════════════════╗\n",
            "║ ➤ Model / Vendor  : text-embedding-ada-002 / openai              \n",
            "║ ➤ Dimensions      : 1536                                    \n",
            "║ ➤ Flat Vector Size: 35328                                   \n",
            "╚═════════════════════════════════════════════════════════════════════════════════════╝\n",
            "╔═════════════════════════════════════════════════════════════════════════════════════╗\n",
            "║ ➤ Model / Vendor  : text-embedding-3-small / openai              \n",
            "║ ➤ Dimensions      : 1536                                    \n",
            "║ ➤ Flat Vector Size: 35328                                   \n",
            "╚═════════════════════════════════════════════════════════════════════════════════════╝\n",
            "╔═════════════════════════════════════════════════════════════════════════════════════╗\n",
            "║ ➤ Model / Vendor  : text-embedding-3-large / openai              \n",
            "║ ➤ Dimensions      : 3072                                    \n",
            "║ ➤ Flat Vector Size: 70656                                   \n",
            "╚═════════════════════════════════════════════════════════════════════════════════════╝\n"
          ]
        }
      ],
      "source": [
        "chunk_default.printVD()"
      ]
    },
    {
      "cell_type": "markdown",
      "metadata": {
        "id": "LRJYv3couIWb"
      },
      "source": [
        "# How `VectorDataBase` and `ChunkQuery` Work Together\n",
        "\n",
        "1. **Preparing the Query and the Vector Database**  \n",
        "   - When you call, for example:  \n",
        "     ```cpp\n",
        "     auto result = VectorDataBase::PureCosine(\"Playoff\", chunk_default, 1, 4);\n",
        "     ```  \n",
        "     you are requesting:\n",
        "     1. That the string `\"Playoff\"` be converted into an embedding compatible with the **embedding model** stored in the element at index `pos = 1` of `chunk_default`.  \n",
        "     2. That the **4** most similar chunks be returned (using cosine similarity).\n",
        "\n",
        "2. **`ChunkQuery` — Generating the Query Embedding**  \n",
        "   - Internally, `PureCosine` does:\n",
        "     ```cpp\n",
        "     Chunk::ChunkQuery cq(query, {}, &chunks, pos);\n",
        "     ```  \n",
        "     which:\n",
        "     - **`setChunks(&chunks, pos)`**: selects the `vdb_data` (VectorDatabase entry) at position `pos` in the `ChunkDefault` embeddings vector.  \n",
        "     - Creates _views_ (spans) pointing to each chunk embedding within the same contiguous block (`flatVD`).  \n",
        "     - Generates a new embedding for the query (`\"Playoff\"`) using the same model (`model`) from that `vdb_data`.\n",
        "\n",
        "3. **Building the FAISS Index**  \n",
        "   - Still in `PureCosine`, it retrieves:\n",
        "     ```cpp\n",
        "     const float* base = vdb->flatVD.data();\n",
        "     ```\n",
        "     and, knowing `d = vdb->dim` and `ndb = vdb->n`, normalizes each chunk vector in-place to apply cosine similarity.  \n",
        "   - It then creates a **`IndexFlatIP`** FAISS index with dimension `d` and adds the contiguous block of `ndb` vectors.\n",
        "\n",
        "4. **Performing the Top-k Search**  \n",
        "   - The normalized query embedding is passed to FAISS:\n",
        "     ```cpp\n",
        "     index.search(1, normalized_query.data(), k, D.data(), I.data());\n",
        "     ```  \n",
        "     returning:\n",
        "     - **`I`**: the indices of the top-`k` most similar chunks.  \n",
        "     - **`D`**: the similarity scores (cosine values).\n",
        "\n",
        "5. **Mapping Indices Back to Chunks**  \n",
        "   - With the index vector `I`, the code does:\n",
        "     ```cpp\n",
        "     for (auto idx : I)\n",
        "         matched.push_back(chunks_list[idx]);\n",
        "     ```  \n",
        "     translating each FAISS index back into the original `page_content` of that chunk.\n",
        "\n",
        "6. **Constructing the `PureResult`**  \n",
        "   - Finally, it packs everything into a `PureResult`:\n",
        "     ```cpp\n",
        "     {\n",
        "       indices = I,\n",
        "       distances = D,\n",
        "       query = query,\n",
        "       query_embedding = emb_query,\n",
        "       matched_chunks = matched\n",
        "     }\n",
        "     ```  \n",
        "   - The Python user receives an object containing:\n",
        "     - The original **query**.\n",
        "     - The **query embedding**.\n",
        "     - The **indices** and **scores** of the matched chunks.\n",
        "     - The actual **chunks** of text that were most relevant.\n",
        "\n",
        "---\n",
        "\n",
        "## Benefits of This Design\n",
        "\n",
        "- **`vdb_data` Reuse**: each `CreateEmb()` creates just one contiguous embeddings vector (`flatVD`), avoiding redundant copies.  \n",
        "- **`ChunkQuery` as an Adapter**: unifies query embedding generation, data views, and metadata retrieval.  \n",
        "- **Pure FAISS Backends**: easily switch between L2, dot-product, or cosine similarity without changing index-building logic.  \n",
        "- **Straightforward Pipeline**: FAISS indices → chunk indices → `Document` objects → user response.\n",
        "\n",
        "This way, the entire pipeline (chunking → embeddings → indexing → search → text return) remains modular, memory-efficient, and seamlessly integrable into your Python notebook via PyBind11.  \n"
      ]
    },
    {
      "cell_type": "code",
      "execution_count": null,
      "metadata": {
        "id": "rPtKaM09uIWc",
        "outputId": "6e935e09-98d1-4a2d-b371-a75452607e6c"
      },
      "outputs": [
        {
          "data": {
            "text/plain": [
              "PureResult(\n",
              "  query: 'Playoff',\n",
              "  index: [9, 8, 21, 4],\n",
              "  distances: [0.4066, 0.3835, 0.3833, 0.3810],\n",
              "  query_embed: [0.0258, -0.0375, -0.0212, 0.0033, -0.0075, -0.0061, 0.0021, 0.0370, ...],\n",
              "  chunks: [\n",
              " [0]: 'Document(metadata={}, page_content=\"test playoff games of the Eastern Conference finals. 14h NBA insiders J.R. Smith crashes Brunson'...\")'\n",
              "\n",
              " [1]: 'Document(metadata={}, page_content=\"s could have interesting salary cap fallout. 6h Dan Graziano Barnwell's NFC offseason superlative...\")'\n",
              "\n",
              " [2]: 'Document(metadata={}, page_content=\"valishvili vs. O'Malley 2 (Jun. 7, ESPN+ PPV) Quick Links NBA Playoffs Stanley Cup Playoffs Frenc...\")'\n",
              "\n",
              " [3]: 'Document(metadata={}, page_content=\"experts break down the 2025 field and give their takes on who can advance to Omaha. 6h ESPN ⚾ F...\")'\n",
              "\n",
              "]"
            ]
          },
          "execution_count": 12,
          "metadata": {},
          "output_type": "execute_result"
        }
      ],
      "source": [
        "cc.PureCosine(\"Playoff\", chunk_default, 1, 4)"
      ]
    },
    {
      "cell_type": "code",
      "execution_count": null,
      "metadata": {
        "id": "hxglTHaYuIWc",
        "outputId": "447e2884-ec6d-47b7-e6ed-8fcc3114d650"
      },
      "outputs": [
        {
          "data": {
            "text/plain": [
              "PureResult(\n",
              "  query: 'Playoff',\n",
              "  index: [21, 9, 8, 1, 17],\n",
              "  distances: [0.8222, 0.8195, 0.8108, 0.7996, 0.7970],\n",
              "  query_embed: [-0.0187, 0.0000, -0.0039, -0.0072, -0.0470, 0.0238, -0.0083, -0.0021, ...],\n",
              "  chunks: [\n",
              " [0]: 'Document(metadata={}, page_content=\"valishvili vs. O'Malley 2 (Jun. 7, ESPN+ PPV) Quick Links NBA Playoffs Stanley Cup Playoffs Frenc...\")'\n",
              "\n",
              " [1]: 'Document(metadata={}, page_content=\"test playoff games of the Eastern Conference finals. 14h NBA insiders J.R. Smith crashes Brunson'...\")'\n",
              "\n",
              " [2]: 'Document(metadata={}, page_content=\"s could have interesting salary cap fallout. 6h Dan Graziano Barnwell's NFC offseason superlative...\")'\n",
              "\n",
              " [3]: 'Document(metadata={}, page_content=\"Watch ESPN BET ESPN+ Subscribe Now NCAA Women's College World Series NCAA Baseball Tournament: Re...\")'\n",
              "\n",
              " [4]: 'Document(metadata={}, page_content=\"atriots: How close are the Patriots to returning to winning? The Patriots have revamped their fro...\")'\n",
              "\n",
              "]"
            ]
          },
          "execution_count": 13,
          "metadata": {},
          "output_type": "execute_result"
        }
      ],
      "source": [
        "cc.PureIP(\"Playoff\", chunk_default, 0, 5)"
      ]
    },
    {
      "cell_type": "code",
      "execution_count": null,
      "metadata": {
        "id": "R0EwSKJ9uIWc",
        "outputId": "2f7e0db4-8db7-45f2-9cd7-96b57373b15d"
      },
      "outputs": [
        {
          "data": {
            "text/plain": [
              "PureResult(\n",
              "  query: 'Playoff',\n",
              "  index: [9, 1, 0, 19, 14],\n",
              "  distances: [0.3616, 0.3392, 0.3367, 0.3298, 0.3236],\n",
              "  query_embed: [0.0045, 0.0009, -0.0094, 0.0127, -0.0343, 0.0141, -0.0097, 0.0827, ...],\n",
              "  chunks: [\n",
              " [0]: 'Document(metadata={}, page_content=\"test playoff games of the Eastern Conference finals. 14h NBA insiders J.R. Smith crashes Brunson'...\")'\n",
              "\n",
              " [1]: 'Document(metadata={}, page_content=\"Watch ESPN BET ESPN+ Subscribe Now NCAA Women's College World Series NCAA Baseball Tournament: Re...\")'\n",
              "\n",
              " [2]: 'Document(metadata={}, page_content=\"\\n        Skip to main content\\n     \\n        Skip to navigation\\n     < > Menu ESPN scores NFL ...\")'\n",
              "\n",
              " [3]: 'Document(metadata={}, page_content=\"A League Join a Public League Practice With a Mock Draft Sign up for FREE! Reactivate A League Cr...\")'\n",
              "\n",
              " [4]: 'Document(metadata={}, page_content=\"ds club-record $147M for Wirtz Braves' Sale fastest to reach 2,500 career K's Swiatek, Sabalenka ...\")'\n",
              "\n",
              "]"
            ]
          },
          "execution_count": 14,
          "metadata": {},
          "output_type": "execute_result"
        }
      ],
      "source": [
        "cc.PureIP(\"Playoff\", chunk_default, 2, 5)"
      ]
    },
    {
      "cell_type": "code",
      "execution_count": null,
      "metadata": {
        "id": "F3iTwpcUuIWc",
        "outputId": "d3c1fd45-414b-4dc5-ae5f-b1891a42832c"
      },
      "outputs": [
        {
          "data": {
            "text/plain": [
              "PureResult(\n",
              "  query: 'Playoff',\n",
              "  index: [21],\n",
              "  distances: [0.3557],\n",
              "  query_embed: [-0.0187, 0.0000, -0.0039, -0.0072, -0.0470, 0.0238, -0.0083, -0.0021, ...],\n",
              "  chunks: [\n",
              " [0]: 'Document(metadata={}, page_content=\"valishvili vs. O'Malley 2 (Jun. 7, ESPN+ PPV) Quick Links NBA Playoffs Stanley Cup Playoffs Frenc...\")'\n",
              "\n",
              "]"
            ]
          },
          "execution_count": 15,
          "metadata": {},
          "output_type": "execute_result"
        }
      ],
      "source": [
        "cc.PureL2(\"Playoff\", chunk_default, 0, 1)"
      ]
    },
    {
      "cell_type": "code",
      "execution_count": null,
      "metadata": {
        "id": "udYnZuY9uIWc"
      },
      "outputs": [],
      "source": [
        "result = cc.PureL2(\"Playoff\", chunk_default, 2, 6)"
      ]
    },
    {
      "cell_type": "code",
      "execution_count": null,
      "metadata": {
        "id": "9u4D8PlUuIWc"
      },
      "outputs": [],
      "source": [
        "\n"
      ]
    }
  ],
  "metadata": {
    "colab": {
      "provenance": []
    },
    "kernelspec": {
      "display_name": "venv",
      "language": "python",
      "name": "python3"
    },
    "language_info": {
      "codemirror_mode": {
        "name": "ipython",
        "version": 3
      },
      "file_extension": ".py",
      "mimetype": "text/x-python",
      "name": "python",
      "nbconvert_exporter": "python",
      "pygments_lexer": "ipython3",
      "version": "3.12.3"
    }
  },
  "nbformat": 4,
  "nbformat_minor": 0
}